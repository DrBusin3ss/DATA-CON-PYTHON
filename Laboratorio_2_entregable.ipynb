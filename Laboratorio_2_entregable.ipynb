{
  "nbformat": 4,
  "nbformat_minor": 0,
  "metadata": {
    "colab": {
      "provenance": [],
      "authorship_tag": "ABX9TyM92noOr8ioIZjJj9b44jyM",
      "include_colab_link": true
    },
    "kernelspec": {
      "name": "python3",
      "display_name": "Python 3"
    },
    "language_info": {
      "name": "python"
    }
  },
  "cells": [
    {
      "cell_type": "markdown",
      "metadata": {
        "id": "view-in-github",
        "colab_type": "text"
      },
      "source": [
        "<a href=\"https://colab.research.google.com/github/DrBusin3ss/DATA-CON-PYTHON/blob/main/Laboratorio_2_entregable.ipynb\" target=\"_parent\"><img src=\"https://colab.research.google.com/assets/colab-badge.svg\" alt=\"Open In Colab\"/></a>"
      ]
    },
    {
      "cell_type": "markdown",
      "source": [
        "Ejercicio # 1"
      ],
      "metadata": {
        "id": "FY57Q84KV9mc"
      }
    },
    {
      "cell_type": "code",
      "source": [
        "def convertir_horas():\n",
        "    opcion = input(\"Seleccione la opción de conversión:\\n1. Convertir horas a HH:MM:SS\\n2. Convertir HH:MM:SS a horas\\nOpción: \")\n",
        "    if opcion == \"1\":\n",
        "        horas = int(input(\"Ingrese el número de horas: \"))\n",
        "        minutos = horas * 60\n",
        "        segundos = minutos * 60\n",
        "        print(\"Las {} horas equivalen a {}:{}:{}\".format(horas, str(minutos).zfill(2), str(segundos).zfill(2), \"00\"))\n",
        "    elif opcion == \"2\":\n",
        "        tiempo = input(\"Ingrese una hora o tiempo en formato HH:MM:SS: \")\n",
        "        tiempo_separado = tiempo.split(\":\")\n",
        "        horas = int(tiempo_separado[0])\n",
        "        minutos = int(tiempo_separado[1])\n",
        "        segundos = int(tiempo_separado[2])\n",
        "        tiempo_total = horas + minutos/60 + segundos/3600\n",
        "        print(\"El tiempo ingresado equivale a {} horas\".format(round(tiempo_total,2)))\n",
        "    else:\n",
        "        print(\"Opción inválida\")\n",
        "\n",
        "# Ejemplo de uso\n",
        "convertir_horas()"
      ],
      "metadata": {
        "colab": {
          "base_uri": "https://localhost:8080/"
        },
        "id": "_y2XpT8dWA2W",
        "outputId": "a10dd39f-c196-47fa-f266-5e468e6f69e7"
      },
      "execution_count": 1,
      "outputs": [
        {
          "output_type": "stream",
          "name": "stdout",
          "text": [
            "Seleccione la opción de conversión:\n",
            "1. Convertir horas a HH:MM:SS\n",
            "2. Convertir HH:MM:SS a horas\n",
            "Opción: 2\n",
            "Ingrese una hora o tiempo en formato HH:MM:SS: 14:18:20\n",
            "El tiempo ingresado equivale a 14.31 horas\n"
          ]
        }
      ]
    },
    {
      "cell_type": "markdown",
      "source": [
        "Ejercicio # 2"
      ],
      "metadata": {
        "id": "H0yWlZr-ZevN"
      }
    },
    {
      "cell_type": "code",
      "source": [
        "def patrones_triangulares(n, c):\n",
        "    # Patrón 1\n",
        "    for i in range(n):\n",
        "        print(c*(i+1))\n",
        "    print()\n",
        "\n",
        "    # Patrón 2\n",
        "    for i in range(n):\n",
        "        print(c*(n-i))\n",
        "    print()\n",
        "\n",
        "    # Patrón 3\n",
        "    for i in range(n):\n",
        "        print(\" \"*(n-i-1) + c*(i+1))\n",
        "    print()\n",
        "\n",
        "    # Patrón 4\n",
        "    for i in range(n):\n",
        "        print(\" \"*i + c*(n-i))\n",
        "        \n",
        "# Pedir al usuario que ingrese el número de patrones y el carácter\n",
        "n = int(input(\"Ingrese el número de patrones: \"))\n",
        "c = input(\"Ingrese el carácter a utilizar: \")\n",
        "\n",
        "# Llamar a la función patrones_triangulares con los parámetros ingresados por el usuario\n",
        "patrones_triangulares(n, c)\n"
      ],
      "metadata": {
        "id": "SRAOWSV6Zhww"
      },
      "execution_count": null,
      "outputs": []
    },
    {
      "cell_type": "markdown",
      "source": [
        "Ejercicio # 3"
      ],
      "metadata": {
        "id": "v7WnrYZsZjNk"
      }
    },
    {
      "cell_type": "code",
      "source": [
        "from datetime import date, timedelta\n",
        "\n",
        "def calcular_edad(fecha_nacimiento):\n",
        "    # Obtener la fecha actual\n",
        "    hoy = date.today()\n",
        "    \n",
        "    # Convertir la fecha de nacimiento en un objeto de fecha\n",
        "    if \"-\" in fecha_nacimiento:\n",
        "        fecha_nacimiento = fecha_nacimiento.split(\"-\")\n",
        "        fecha_nacimiento = date(int(fecha_nacimiento[0]), int(fecha_nacimiento[1]), int(fecha_nacimiento[2]))\n",
        "    else:\n",
        "        fecha_nacimiento = fecha_nacimiento.split(\"/\")\n",
        "        fecha_nacimiento = date(int(fecha_nacimiento[2]), int(fecha_nacimiento[1]), int(fecha_nacimiento[0]))\n",
        "    \n",
        "    # Calcular la edad en años, meses y días\n",
        "    edad = hoy - fecha_nacimiento\n",
        "    edad_anos = edad.days // 365\n",
        "    edad_meses = (edad.days % 365) // 30\n",
        "    edad_dias = (edad.days % 365) % 30\n",
        "    \n",
        "    # Devolver la edad en años, meses y días\n",
        "    return edad_anos, edad_meses, edad_dias\n",
        "\n",
        "\n",
        "# Pedir al usuario que ingrese su edad\n",
        "edad = int(input(\"Ingrese su edad: \"))\n",
        "\n",
        "# Calcular la fecha de nacimiento estimada\n",
        "fecha_nacimiento_estimada = date.today() - timedelta(days=(edad*365))\n",
        "\n",
        "# Mostrar la fecha de nacimiento estimada\n",
        "print(\"Su fecha de nacimiento estimada es:\", fecha_nacimiento_estimada.strftime('%d/%m/%Y'))\n",
        "\n",
        "# Pedir al usuario que ingrese la fecha de nacimiento en formato dd/mm/aaaa\n",
        "fecha_nacimiento_1 = input(\"Ingrese la fecha de nacimiento en formato dd/mm/aaaa: \")\n",
        "edad_1 = calcular_edad(fecha_nacimiento_1)\n",
        "print(\"Su edad es: {} años, {} meses y {} días\".format(edad_1[0], edad_1[1], edad_1[2]))"
      ],
      "metadata": {
        "colab": {
          "base_uri": "https://localhost:8080/"
        },
        "id": "QkRuDv7ib9DS",
        "outputId": "686eaf68-eb63-4660-fea3-53ed80b6cdc4"
      },
      "execution_count": 2,
      "outputs": [
        {
          "output_type": "stream",
          "name": "stdout",
          "text": [
            "Ingrese su edad: 31\n",
            "Su fecha de nacimiento estimada es: 13/03/1992\n",
            "Ingrese la fecha de nacimiento en formato dd/mm/aaaa: 11/09/1991\n",
            "Su edad es: 31 años, 6 meses y 4 días\n"
          ]
        }
      ]
    },
    {
      "cell_type": "markdown",
      "source": [
        "Ejercicio # 4"
      ],
      "metadata": {
        "id": "P8OWFTXBdTAn"
      }
    },
    {
      "cell_type": "code",
      "source": [
        "## Convertir la tupla en string \n",
        "##(10, 20, 40, 5, 70)\n",
        "def tupla_a_string(tupla):\n",
        "    return ''.join(str(elemento) for elemento in tupla)\n",
        "## Para permitir que el usuario ingrese la tupla desde el input, podemos usar el siguiente código\n",
        "tupla_string = input(\"Ingrese la tupla separada por comas: \")\n",
        "tupla = tuple(tupla_string.split(\",\"))\n",
        "resultado = tupla_a_string(tupla)\n",
        "print(resultado)\n",
        "## ingreso de la tupla por parte del usuario\n",
        "tupla_string = \"10,20,40,5,70\"\n",
        "tupla = tuple(tupla_string.split(\",\"))\n",
        "resultado = tupla_a_string(tupla)\n",
        "print(resultado)"
      ],
      "metadata": {
        "colab": {
          "base_uri": "https://localhost:8080/"
        },
        "id": "f0xfLUEXdVwn",
        "outputId": "f09f7b41-60ea-4ead-a387-d9b65020cbe0"
      },
      "execution_count": 3,
      "outputs": [
        {
          "output_type": "stream",
          "name": "stdout",
          "text": [
            "Ingrese la tupla separada por comas: 10, 20, 40, 5, 70\n",
            "10 20 40 5 70\n",
            "102040570\n"
          ]
        }
      ]
    },
    {
      "cell_type": "markdown",
      "source": [
        "Ejercicio # 5"
      ],
      "metadata": {
        "id": "b47OcdkndjWz"
      }
    },
    {
      "cell_type": "code",
      "source": [
        "##\n",
        "def eliminar_tuplas_vacias(lista_tuplas):\n",
        "    return list(filter(lambda tupla: len(tupla) > 0, lista_tuplas))\n",
        "\n",
        "tuplas = []\n",
        "\n",
        "while True:\n",
        "    tupla = tuple(input(\"Ingrese una tupla (separada por comas y sin espacios): \").split(\",\"))\n",
        "    tuplas.append(tupla)\n",
        "    opcion = input(\"¿Desea ingresar otra tupla? (s/n): \")\n",
        "    if opcion.lower() == 'n':\n",
        "        break\n",
        "\n",
        "tuplas_filtradas = eliminar_tuplas_vacias(tuplas)\n",
        "\n",
        "print(\"Tuplas ingresadas: \", tuplas)\n",
        "print(\"Tuplas filtradas: \", tuplas_filtradas)"
      ],
      "metadata": {
        "id": "eU97Ph_Feiwm"
      },
      "execution_count": null,
      "outputs": []
    },
    {
      "cell_type": "markdown",
      "source": [
        "Ejercicio # 6"
      ],
      "metadata": {
        "id": "QaqWe5lvfJUF"
      }
    },
    {
      "cell_type": "code",
      "source": [
        "##((10, 10, 10, 12), (30, 45, 56, 45), (81, 80, 39, 32))\n",
        "def promedio_tuplas(tuplas):\n",
        "    promedios = []\n",
        "    for tupla in tuplas:\n",
        "        suma = sum(tupla)\n",
        "        promedio = suma/len(tupla)\n",
        "        promedios.append(promedio)\n",
        "    return tuple(promedios)\n",
        "\n",
        "tuplas = eval(input(\"Ingrese una tupla de tuplas con números: \"))\n",
        "promedios = promedio_tuplas(tuplas)\n",
        "print(\"Promedio de cada tupla:\", promedios)\n"
      ],
      "metadata": {
        "id": "UNFiiql0fLBZ"
      },
      "execution_count": null,
      "outputs": []
    },
    {
      "cell_type": "markdown",
      "source": [
        "Ejercicio # 7"
      ],
      "metadata": {
        "id": "gmHqlOhVfWF8"
      }
    },
    {
      "cell_type": "code",
      "source": [
        "facturas = {}\n",
        "\n",
        "while True:\n",
        "    print(\"¿Qué acción desea realizar?\")\n",
        "    print(\"1. Añadir nueva factura\")\n",
        "    print(\"2. Pagar una factura\")\n",
        "    print(\"3. Ver estado actual del cobro\")\n",
        "    print(\"4. Salir\")\n",
        "\n",
        "    opcion = int(input(\"Ingrese el número de la opción deseada: \"))\n",
        "\n",
        "    if opcion == 1:\n",
        "        # Añadir nueva factura\n",
        "        num_factura = input(\"Ingrese el número de factura (debe tener 4 dígitos): \")\n",
        "        while len(num_factura) != 4 or not num_factura.isdigit():\n",
        "            num_factura = input(\"Número de factura inválido. Ingrese el número de factura (debe tener 4 dígitos): \")\n",
        "        coste = float(input(\"Ingrese el coste de la factura: \"))\n",
        "        facturas[num_factura] = coste\n",
        "        print(\"Factura añadida correctamente.\")\n",
        "        print(facturas)\n",
        "\n",
        "    elif opcion == 2:\n",
        "        # Pagar una factura\n",
        "        num_factura = input(\"Ingrese el número de factura a pagar: \")\n",
        "        if num_factura in facturas:\n",
        "            coste = facturas[num_factura]\n",
        "            del facturas[num_factura]\n",
        "            print(f\"Se ha pagado la factura {num_factura} por un valor de {coste}\")\n",
        "            print(facturas)\n",
        "        else:\n",
        "            print(f\"No se encontró la factura {num_factura} en la lista de facturas pendientes.\")\n",
        "\n",
        "    elif opcion == 3:\n",
        "        # Ver estado actual del cobro\n",
        "        cobrado = sum(facturas.values())\n",
        "        pendiente = sum([v for v in facturas.values()])\n",
        "        print(f\"Cantidad cobrada: {cobrado}\")\n",
        "        print(f\"Cantidad pendiente de cobro: {pendiente}\")\n",
        "\n",
        "    elif opcion == 4:\n",
        "        # Salir del programa\n",
        "        break\n",
        "\n",
        "    else:\n",
        "        print(\"Opción inválida. Intente de nuevo.\")\n"
      ],
      "metadata": {
        "id": "60cIvgK1fZz6"
      },
      "execution_count": null,
      "outputs": []
    },
    {
      "cell_type": "markdown",
      "source": [
        "Ejercicio # 8"
      ],
      "metadata": {
        "id": "WrER7MCdha5x"
      }
    },
    {
      "cell_type": "code",
      "source": [
        "##Crear la baraja del 1 al 13\n",
        "## T es Trevoles\n",
        "## C es Corazones\n",
        "## P es Picas\n",
        "## R es Rombos\n",
        "def crear_baraja():\n",
        "    tipos = ['T', 'C', 'P', 'R']\n",
        "    numeros = ['01', '02', '03', '04', '05', '06', '07', '08', '09', '10', '11', '12', '13']\n",
        "    baraja = set()\n",
        "    for tipo in tipos:\n",
        "        for numero in numeros:\n",
        "            carta = tipo + numero\n",
        "            baraja.add(carta)\n",
        "    return baraja\n",
        "##Crear los conjuntos\n",
        "import random\n",
        "\n",
        "def crear_conjuntos(baraja):\n",
        "    n1 = random.randint(1, len(baraja))\n",
        "    n2 = random.randint(1, len(baraja))\n",
        "    conjunto1 = set(random.sample(baraja, n1))\n",
        "    conjunto2 = set(random.sample(baraja, n2))\n",
        "    return conjunto1, conjunto2\n",
        "##Calular las probabilidades\n",
        "\n",
        "def calcular_probabilidades(conjunto1, conjunto2):\n",
        "    interseccion = conjunto1.intersection(conjunto2)\n",
        "    prob_interseccion = len(interseccion) / len(conjunto1) / len(conjunto2)\n",
        "    prob_union = (len(conjunto1) + len(conjunto2) - len(interseccion)) / len(baraja)\n",
        "    if prob_interseccion == (len(interseccion) / len(conjunto1)) * (len(interseccion) / len(conjunto2)):\n",
        "        print(\"Los eventos son independientes\")\n",
        "    else:\n",
        "        print(\"Los eventos no son independientes\")\n",
        "    if prob_union == (len(conjunto1) / len(baraja)) + (len(conjunto2) / len(baraja)) - prob_interseccion:\n",
        "        print(\"Se cumple la regla de la adición\")\n",
        "    else:\n",
        "        print(\"No se cumple la regla de la adición\")\n",
        "    return prob_interseccion, prob_union\n",
        "#barajas\n",
        "baraja = crear_baraja()\n",
        "conjunto1, conjunto2 = crear_conjuntos(baraja)\n",
        "print(\"Conjunto 1:\", conjunto1)\n",
        "print(\"Conjunto 2:\", conjunto2)\n",
        "prob_interseccion, prob_union = calcular_probabilidades(conjunto1, conjunto2)\n",
        "print(\"Probabilidad de la intersección:\", prob_interseccion)\n",
        "print(\"Probabilidad de la unión:\", prob_union)\n",
        "\n",
        "import random\n",
        "\n",
        "def crear_baraja():\n",
        "    tipos = ['T', 'C', 'P', 'E']\n",
        "    numeros = ['01', '02', '03', '04', '05', '06', '07', '08', '09', '10', '11', '12', '13']\n",
        "    baraja = set()\n",
        "    for tipo in tipos:\n",
        "        for numero in numeros:\n",
        "            carta = tipo + numero\n",
        "            baraja.add(carta)\n",
        "    return baraja\n",
        "\n",
        "def crear_conjuntos(baraja):\n",
        "    n = int(input(\"Ingrese la cantidad de cartas para el conjunto 1: \"))\n",
        "    conjunto1 = set(random.sample(baraja, n))\n",
        "    conjunto2 = set(random.sample(baraja, random.randint(1, len(baraja) - len(conjunto1))))\n",
        "    return conjunto1, conjunto2\n",
        "\n",
        "def probabilidad_interseccion(conjunto1, conjunto2):\n",
        "    interseccion = conjunto1.intersection(conjunto2)\n",
        "    probabilidad = len(interseccion) / len(conjunto1.union(conjunto2))\n",
        "    return probabilidad\n",
        "\n",
        "def es_independiente(conjunto1, conjunto2):\n",
        "    probabilidad_conjunto1 = len(conjunto1) / len(crear_baraja())\n",
        "    probabilidad_conjunto2 = len(conjunto2) / len(crear_baraja())\n",
        "    probabilidad_inter = probabilidad_interseccion(conjunto1, conjunto2)\n",
        "    return abs(probabilidad_conjunto1 * probabilidad_conjunto2 - probabilidad_inter) < 0.01\n",
        "\n",
        "def probabilidad_union(conjunto1, conjunto2):\n",
        "    union = conjunto1.union(conjunto2)\n",
        "    probabilidad = len(union) / len(crear_baraja())\n",
        "    return probabilidad\n",
        "\n",
        "# Ejemplo de uso\n",
        "baraja = crear_baraja()\n",
        "print(\"Baraja:\", baraja)\n",
        "\n",
        "conjunto1, conjunto2 = crear_conjuntos(baraja)\n",
        "print(\"Conjunto 1:\", conjunto1)\n",
        "print(\"Conjunto 2:\", conjunto2)\n",
        "\n",
        "prob_inter = probabilidad_interseccion(conjunto1, conjunto2)\n",
        "print(\"Probabilidad de intersección:\", prob_inter)\n",
        "\n",
        "print(\"¿Son independientes los eventos?:\", es_independiente(conjunto1, conjunto2))\n",
        "\n",
        "prob_union = probabilidad_union(conjunto1, conjunto2)\n",
        "print(\"Probabilidad de unión:\", prob_union)"
      ],
      "metadata": {
        "colab": {
          "base_uri": "https://localhost:8080/"
        },
        "id": "eaPxHUuwnTSJ",
        "outputId": "5fab50c1-a848-43ad-9914-c978e13048f8"
      },
      "execution_count": 4,
      "outputs": [
        {
          "output_type": "stream",
          "name": "stdout",
          "text": [
            "Conjunto 1: {'R12', 'R01', 'R13', 'R05', 'T03', 'R10', 'P01', 'C04', 'C12', 'P08', 'C11', 'T11', 'T06', 'R06', 'C08', 'C07', 'T04', 'T01', 'P12', 'R03', 'T09', 'T07', 'C01', 'T12', 'R04', 'C09', 'C13', 'P03', 'R11', 'C03', 'T10', 'P09', 'P05', 'R08'}\n",
            "Conjunto 2: {'P04', 'R12', 'P13', 'R01', 'R13', 'C05', 'C02', 'R05', 'T03', 'R10', 'P01', 'C04', 'T08', 'P07', 'C11', 'T11', 'T06', 'R06', 'C08', 'C07', 'T04', 'T01', 'P02', 'P12', 'T09', 'T07', 'R04', 'P11', 'C06', 'T05', 'C13', 'R02', 'T02', 'P03', 'R11', 'C03', 'T10', 'P09', 'R07', 'P10', 'P05', 'C10', 'R09'}\n",
            "Los eventos no son independientes\n",
            "No se cumple la regla de la adición\n",
            "Probabilidad de la intersección: 0.018467852257181942\n",
            "Probabilidad de la unión: 0.9615384615384616\n",
            "Baraja: {'P04', 'C02', 'P13', 'C05', 'T03', 'E05', 'E12', 'P01', 'T08', 'C04', 'C12', 'P07', 'P08', 'C11', 'T11', 'E08', 'T06', 'C08', 'T01', 'T04', 'C07', 'P02', 'P12', 'E02', 'T13', 'E06', 'T09', 'T07', 'C01', 'E01', 'T12', 'P11', 'C09', 'C06', 'T05', 'C13', 'T02', 'E10', 'E09', 'P03', 'E03', 'C03', 'E04', 'T10', 'E13', 'P09', 'P06', 'P10', 'E07', 'P05', 'E11', 'C10'}\n",
            "Ingrese la cantidad de cartas para el conjunto 1: 8\n",
            "Conjunto 1: {'T07', 'T12', 'E10', 'E09', 'P02', 'T08', 'E02', 'E07'}\n",
            "Conjunto 2: {'P04', 'T07', 'E08', 'T06', 'T03', 'C06', 'T05', 'C08', 'T08', 'P02', 'P08', 'P07', 'E07'}\n",
            "Probabilidad de intersección: 0.23529411764705882\n",
            "¿Son independientes los eventos?: False\n",
            "Probabilidad de unión: 0.3269230769230769\n"
          ]
        }
      ]
    }
  ]
}