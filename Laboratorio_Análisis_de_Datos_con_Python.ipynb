{
  "nbformat": 4,
  "nbformat_minor": 0,
  "metadata": {
    "colab": {
      "provenance": [],
      "mount_file_id": "1hXQ-tQwGn2JT2iT-NrQ5bXcElGWvaP7x",
      "authorship_tag": "ABX9TyPF9co3Z5lETkzd2Adi9foe",
      "include_colab_link": true
    },
    "kernelspec": {
      "name": "python3",
      "display_name": "Python 3"
    },
    "language_info": {
      "name": "python"
    }
  },
  "cells": [
    {
      "cell_type": "markdown",
      "metadata": {
        "id": "view-in-github",
        "colab_type": "text"
      },
      "source": [
        "<a href=\"https://colab.research.google.com/github/DrBusin3ss/DATA-CON-PYTHON/blob/main/Laboratorio_An%C3%A1lisis_de_Datos_con_Python.ipynb\" target=\"_parent\"><img src=\"https://colab.research.google.com/assets/colab-badge.svg\" alt=\"Open In Colab\"/></a>"
      ]
    },
    {
      "cell_type": "markdown",
      "source": [
        "¿Cuál es el tamaño en bytes de un array de 1000\n",
        "elementos de tipo booleano?"
      ],
      "metadata": {
        "id": "tJ5-nochpxDS"
      }
    },
    {
      "cell_type": "code",
      "source": [
        "import pandas as pd\n",
        "\n",
        "df = pd.DataFrame({'bool_column': [True] * 1000})\n",
        "size = df.memory_usage(deep=True).sum()\n",
        "\n",
        "print(f\"Tamaño del DataFrame: {size} bytes\")\n"
      ],
      "metadata": {
        "colab": {
          "base_uri": "https://localhost:8080/"
        },
        "id": "MEphpAnkrHsA",
        "outputId": "7588d51b-8ec6-4d0f-8d23-502d1c08c462"
      },
      "execution_count": 1,
      "outputs": [
        {
          "output_type": "stream",
          "name": "stdout",
          "text": [
            "Tamaño del DataFrame: 1128 bytes\n"
          ]
        }
      ]
    },
    {
      "cell_type": "markdown",
      "source": [
        "Cree un array cuyos elementos sean los enteros pares en\n",
        "[1,100] y en orden decreciente. Muestre los 10 últimos\n",
        "por pantalla."
      ],
      "metadata": {
        "id": "AdxVVyh1rQ7C"
      }
    },
    {
      "cell_type": "code",
      "source": [
        "arr = list(range(100, 0, -2))\n",
        "last_ten = arr[-10:]\n",
        "\n",
        "print(last_ten)\n"
      ],
      "metadata": {
        "colab": {
          "base_uri": "https://localhost:8080/"
        },
        "id": "YpAAgZRmrSHp",
        "outputId": "6332f718-5739-49fe-846e-72780215c46a"
      },
      "execution_count": 2,
      "outputs": [
        {
          "output_type": "stream",
          "name": "stdout",
          "text": [
            "[20, 18, 16, 14, 12, 10, 8, 6, 4, 2]\n"
          ]
        }
      ]
    },
    {
      "cell_type": "markdown",
      "source": [
        "Dado el array\n",
        "2 4 5 6\n",
        "0 3 7 4\n",
        "8 8 5 2\n",
        "1 5 6 1\n",
        "Seleccione con una instrucción el subarray de elementos\n",
        "0 3 7 4\n",
        "Después, seleccione el subarray de elementos\n",
        "2 5\n",
        "8 5"
      ],
      "metadata": {
        "id": "XFwUnOqT9s3-"
      }
    },
    {
      "cell_type": "code",
      "source": [
        "arr = [[2, 4, 5, 6],\n",
        "       [0, 3, 7, 4],\n",
        "       [8, 8, 5, 2],\n",
        "       [1, 5, 6, 1]]\n",
        "\n",
        "subarray1 = [arr[1][i] for i in range(1, 4)]\n",
        "print(subarray1)\n"
      ],
      "metadata": {
        "colab": {
          "base_uri": "https://localhost:8080/"
        },
        "id": "xoTEDgLd9tOA",
        "outputId": "ac788ce8-31e0-4492-bdaf-5cb31a7dfd99"
      },
      "execution_count": 3,
      "outputs": [
        {
          "output_type": "stream",
          "name": "stdout",
          "text": [
            "[3, 7, 4]\n"
          ]
        }
      ]
    },
    {
      "cell_type": "code",
      "source": [
        "arr = [[2, 4, 5, 6],\n",
        "       [0, 3, 7, 4],\n",
        "       [8, 8, 5, 2],\n",
        "       [1, 5, 6, 1]]\n",
        "\n",
        "subarray1 = [arr[1][i] for i in range(1, 4)]\n",
        "print(subarray1)\n",
        "\n",
        "subarray2 = [[arr[i][j] for j in range(0, 4) if j == 0 or j == 2] for i in range(0, 4) if i == 0 or i == 2]\n",
        "print(subarray2)\n"
      ],
      "metadata": {
        "colab": {
          "base_uri": "https://localhost:8080/"
        },
        "id": "xVQtTLj99-kN",
        "outputId": "c55db185-2df8-47bb-f6b0-3f5cdee93bc9"
      },
      "execution_count": 4,
      "outputs": [
        {
          "output_type": "stream",
          "name": "stdout",
          "text": [
            "[3, 7, 4]\n",
            "[[2, 5], [8, 5]]\n"
          ]
        }
      ]
    },
    {
      "cell_type": "markdown",
      "source": [
        "Dados los arrays a = [1, 4, 2, 7] y b = [1, 3, 2, 9],\n",
        "obtenga la media aritmética de la diferencia (a-b)."
      ],
      "metadata": {
        "id": "Xrh3-A23-LOR"
      }
    },
    {
      "cell_type": "code",
      "source": [
        "a = [1, 4, 2, 7]\n",
        "b = [1, 3, 2, 9]\n",
        "\n",
        "diff = [x - y for x, y in zip(a, b)]\n",
        "mean_diff = sum(diff) / len(diff)\n",
        "\n",
        "print(mean_diff)\n"
      ],
      "metadata": {
        "colab": {
          "base_uri": "https://localhost:8080/"
        },
        "id": "zZAadRwT-Q43",
        "outputId": "657e9440-9fd9-43a9-8d94-f7c86da5569a"
      },
      "execution_count": 5,
      "outputs": [
        {
          "output_type": "stream",
          "name": "stdout",
          "text": [
            "-0.25\n"
          ]
        }
      ]
    },
    {
      "cell_type": "markdown",
      "source": [
        "Tengo valores de cordenadas (x, y) en las columnas\n",
        "del array\n",
        "1.33 4.5\n",
        "30.0 10.7\n",
        "70.2 0.5\n",
        "Agregue a este array las coordenadas (37.1, -3.6).\n",
        "Muestre en pantalla las dimensiones del nuevo\n",
        "array."
      ],
      "metadata": {
        "id": "w7_ZOXnH_baY"
      }
    },
    {
      "cell_type": "code",
      "source": [
        "import numpy as np\n",
        "\n",
        "# Definimos el array inicial\n",
        "coords = np.array([[1.33, 4.5],\n",
        "                   [30.0, 10.7],\n",
        "                   [70.2, 0.5]])\n",
        "\n",
        "# Agregamos las nuevas coordenadas\n",
        "new_coords = np.array([37.1, -3.6])\n",
        "coords = np.vstack([coords, new_coords])\n",
        "\n",
        "# Mostramos las dimensiones del nuevo array\n",
        "print(coords.shape)\n"
      ],
      "metadata": {
        "colab": {
          "base_uri": "https://localhost:8080/"
        },
        "id": "c6DLrMfI_cuh",
        "outputId": "4cae1d44-e7b1-4e45-d248-f1756529323f"
      },
      "execution_count": 6,
      "outputs": [
        {
          "output_type": "stream",
          "name": "stdout",
          "text": [
            "(4, 2)\n"
          ]
        }
      ]
    },
    {
      "cell_type": "markdown",
      "source": [
        "Copie el array del ejercicio anterior. Traspóngalo (.\n",
        "Agregue ahora dos nuevos pares de coordenadas: (10.8,\n",
        "3.0) y (35.8, 12.0)."
      ],
      "metadata": {
        "id": "1_r2BV2OAerU"
      }
    },
    {
      "cell_type": "code",
      "source": [
        "import numpy as np\n",
        "\n",
        "# Definimos el array inicial\n",
        "coords = np.array([[1.33, 4.5],\n",
        "                   [30.0, 10.7],\n",
        "                   [70.2, 0.5]])\n",
        "\n",
        "# Calculamos la transpuesta\n",
        "coords_t = coords.transpose()\n",
        "\n",
        "# Agregamos los nuevos pares de coordenadas\n",
        "new_coords = np.array([[37.1, -3.6],\n",
        "                       [10.8, 3.0],\n",
        "                       [35.8, 12.0]])\n",
        "new_coords_t = new_coords.transpose()\n",
        "coords = np.vstack([coords_t, new_coords_t])\n",
        "\n",
        "# Mostramos las dimensiones del nuevo array\n",
        "print(coords.shape)\n",
        "\n"
      ],
      "metadata": {
        "colab": {
          "base_uri": "https://localhost:8080/"
        },
        "id": "XN3NiuRKAgbW",
        "outputId": "ebe93d3e-954b-47f4-a339-994f6e3876df"
      },
      "execution_count": 8,
      "outputs": [
        {
          "output_type": "stream",
          "name": "stdout",
          "text": [
            "(4, 3)\n"
          ]
        }
      ]
    },
    {
      "cell_type": "markdown",
      "source": [
        "Parte 2: Exploración y Minería de Datos:"
      ],
      "metadata": {
        "id": "49ldZyNGFXr6"
      }
    },
    {
      "cell_type": "code",
      "source": [
        "file_url = \"https://drive.google.com/drive/u/0/folders/1JPOaU7zw5jyGxy9jOQ5-FnJNWh0hsuVi\"\n",
        "\n"
      ],
      "metadata": {
        "id": "41vRn77fG3dZ"
      },
      "execution_count": 15,
      "outputs": []
    },
    {
      "cell_type": "code",
      "source": [
        "from google.colab import drive\n",
        "drive.mount('/content/drive')\n",
        "!ls \"/content/drive/My Drive/\""
      ],
      "metadata": {
        "id": "Z32xq07ZJ7yb"
      },
      "execution_count": null,
      "outputs": []
    },
    {
      "cell_type": "code",
      "source": [
        "import pandas as pd\n",
        "df = pd.read_csv('/content/drive/MyDrive/LAB 3 /NucleosPoblacion.csv')"
      ],
      "metadata": {
        "id": "ltt90nwIMZxI"
      },
      "execution_count": 17,
      "outputs": []
    },
    {
      "cell_type": "code",
      "source": [
        "df.head()"
      ],
      "metadata": {
        "colab": {
          "base_uri": "https://localhost:8080/",
          "height": 215
        },
        "id": "Tm_JW2avMmGU",
        "outputId": "ae452d9f-fdee-4932-8261-1dd7d4182b9c"
      },
      "execution_count": 18,
      "outputs": [
        {
          "output_type": "execute_result",
          "data": {
            "text/plain": [
              "   FID  OBJECTID     Texto  Poblacion  CodMun Municipio  CodProvin  \\\n",
              "0    0         1   Agüimes    29431.0   35002   Agüimes         35   \n",
              "1    1         2   Antigua    10458.0   35003   Antigua         35   \n",
              "2    2         3  Arrecife    58156.0   35004  Arrecife         35   \n",
              "3    3         4    Arucas    36745.0   35006    Arucas         35   \n",
              "4    4         5    Gáldar    24473.0   35009    Gáldar         35   \n",
              "\n",
              "    Provincia          X          Y  \n",
              "0  Las Palmas -15.446012  27.900542  \n",
              "1  Las Palmas -14.013301  28.418966  \n",
              "2  Las Palmas -13.551451  28.960649  \n",
              "3  Las Palmas -15.521512  28.117496  \n",
              "4  Las Palmas -15.654111  28.143873  "
            ],
            "text/html": [
              "\n",
              "  <div id=\"df-8f845655-7893-4bd3-a593-ec1e9f4253b2\">\n",
              "    <div class=\"colab-df-container\">\n",
              "      <div>\n",
              "<style scoped>\n",
              "    .dataframe tbody tr th:only-of-type {\n",
              "        vertical-align: middle;\n",
              "    }\n",
              "\n",
              "    .dataframe tbody tr th {\n",
              "        vertical-align: top;\n",
              "    }\n",
              "\n",
              "    .dataframe thead th {\n",
              "        text-align: right;\n",
              "    }\n",
              "</style>\n",
              "<table border=\"1\" class=\"dataframe\">\n",
              "  <thead>\n",
              "    <tr style=\"text-align: right;\">\n",
              "      <th></th>\n",
              "      <th>FID</th>\n",
              "      <th>OBJECTID</th>\n",
              "      <th>Texto</th>\n",
              "      <th>Poblacion</th>\n",
              "      <th>CodMun</th>\n",
              "      <th>Municipio</th>\n",
              "      <th>CodProvin</th>\n",
              "      <th>Provincia</th>\n",
              "      <th>X</th>\n",
              "      <th>Y</th>\n",
              "    </tr>\n",
              "  </thead>\n",
              "  <tbody>\n",
              "    <tr>\n",
              "      <th>0</th>\n",
              "      <td>0</td>\n",
              "      <td>1</td>\n",
              "      <td>Agüimes</td>\n",
              "      <td>29431.0</td>\n",
              "      <td>35002</td>\n",
              "      <td>Agüimes</td>\n",
              "      <td>35</td>\n",
              "      <td>Las Palmas</td>\n",
              "      <td>-15.446012</td>\n",
              "      <td>27.900542</td>\n",
              "    </tr>\n",
              "    <tr>\n",
              "      <th>1</th>\n",
              "      <td>1</td>\n",
              "      <td>2</td>\n",
              "      <td>Antigua</td>\n",
              "      <td>10458.0</td>\n",
              "      <td>35003</td>\n",
              "      <td>Antigua</td>\n",
              "      <td>35</td>\n",
              "      <td>Las Palmas</td>\n",
              "      <td>-14.013301</td>\n",
              "      <td>28.418966</td>\n",
              "    </tr>\n",
              "    <tr>\n",
              "      <th>2</th>\n",
              "      <td>2</td>\n",
              "      <td>3</td>\n",
              "      <td>Arrecife</td>\n",
              "      <td>58156.0</td>\n",
              "      <td>35004</td>\n",
              "      <td>Arrecife</td>\n",
              "      <td>35</td>\n",
              "      <td>Las Palmas</td>\n",
              "      <td>-13.551451</td>\n",
              "      <td>28.960649</td>\n",
              "    </tr>\n",
              "    <tr>\n",
              "      <th>3</th>\n",
              "      <td>3</td>\n",
              "      <td>4</td>\n",
              "      <td>Arucas</td>\n",
              "      <td>36745.0</td>\n",
              "      <td>35006</td>\n",
              "      <td>Arucas</td>\n",
              "      <td>35</td>\n",
              "      <td>Las Palmas</td>\n",
              "      <td>-15.521512</td>\n",
              "      <td>28.117496</td>\n",
              "    </tr>\n",
              "    <tr>\n",
              "      <th>4</th>\n",
              "      <td>4</td>\n",
              "      <td>5</td>\n",
              "      <td>Gáldar</td>\n",
              "      <td>24473.0</td>\n",
              "      <td>35009</td>\n",
              "      <td>Gáldar</td>\n",
              "      <td>35</td>\n",
              "      <td>Las Palmas</td>\n",
              "      <td>-15.654111</td>\n",
              "      <td>28.143873</td>\n",
              "    </tr>\n",
              "  </tbody>\n",
              "</table>\n",
              "</div>\n",
              "      <button class=\"colab-df-convert\" onclick=\"convertToInteractive('df-8f845655-7893-4bd3-a593-ec1e9f4253b2')\"\n",
              "              title=\"Convert this dataframe to an interactive table.\"\n",
              "              style=\"display:none;\">\n",
              "        \n",
              "  <svg xmlns=\"http://www.w3.org/2000/svg\" height=\"24px\"viewBox=\"0 0 24 24\"\n",
              "       width=\"24px\">\n",
              "    <path d=\"M0 0h24v24H0V0z\" fill=\"none\"/>\n",
              "    <path d=\"M18.56 5.44l.94 2.06.94-2.06 2.06-.94-2.06-.94-.94-2.06-.94 2.06-2.06.94zm-11 1L8.5 8.5l.94-2.06 2.06-.94-2.06-.94L8.5 2.5l-.94 2.06-2.06.94zm10 10l.94 2.06.94-2.06 2.06-.94-2.06-.94-.94-2.06-.94 2.06-2.06.94z\"/><path d=\"M17.41 7.96l-1.37-1.37c-.4-.4-.92-.59-1.43-.59-.52 0-1.04.2-1.43.59L10.3 9.45l-7.72 7.72c-.78.78-.78 2.05 0 2.83L4 21.41c.39.39.9.59 1.41.59.51 0 1.02-.2 1.41-.59l7.78-7.78 2.81-2.81c.8-.78.8-2.07 0-2.86zM5.41 20L4 18.59l7.72-7.72 1.47 1.35L5.41 20z\"/>\n",
              "  </svg>\n",
              "      </button>\n",
              "      \n",
              "  <style>\n",
              "    .colab-df-container {\n",
              "      display:flex;\n",
              "      flex-wrap:wrap;\n",
              "      gap: 12px;\n",
              "    }\n",
              "\n",
              "    .colab-df-convert {\n",
              "      background-color: #E8F0FE;\n",
              "      border: none;\n",
              "      border-radius: 50%;\n",
              "      cursor: pointer;\n",
              "      display: none;\n",
              "      fill: #1967D2;\n",
              "      height: 32px;\n",
              "      padding: 0 0 0 0;\n",
              "      width: 32px;\n",
              "    }\n",
              "\n",
              "    .colab-df-convert:hover {\n",
              "      background-color: #E2EBFA;\n",
              "      box-shadow: 0px 1px 2px rgba(60, 64, 67, 0.3), 0px 1px 3px 1px rgba(60, 64, 67, 0.15);\n",
              "      fill: #174EA6;\n",
              "    }\n",
              "\n",
              "    [theme=dark] .colab-df-convert {\n",
              "      background-color: #3B4455;\n",
              "      fill: #D2E3FC;\n",
              "    }\n",
              "\n",
              "    [theme=dark] .colab-df-convert:hover {\n",
              "      background-color: #434B5C;\n",
              "      box-shadow: 0px 1px 3px 1px rgba(0, 0, 0, 0.15);\n",
              "      filter: drop-shadow(0px 1px 2px rgba(0, 0, 0, 0.3));\n",
              "      fill: #FFFFFF;\n",
              "    }\n",
              "  </style>\n",
              "\n",
              "      <script>\n",
              "        const buttonEl =\n",
              "          document.querySelector('#df-8f845655-7893-4bd3-a593-ec1e9f4253b2 button.colab-df-convert');\n",
              "        buttonEl.style.display =\n",
              "          google.colab.kernel.accessAllowed ? 'block' : 'none';\n",
              "\n",
              "        async function convertToInteractive(key) {\n",
              "          const element = document.querySelector('#df-8f845655-7893-4bd3-a593-ec1e9f4253b2');\n",
              "          const dataTable =\n",
              "            await google.colab.kernel.invokeFunction('convertToInteractive',\n",
              "                                                     [key], {});\n",
              "          if (!dataTable) return;\n",
              "\n",
              "          const docLinkHtml = 'Like what you see? Visit the ' +\n",
              "            '<a target=\"_blank\" href=https://colab.research.google.com/notebooks/data_table.ipynb>data table notebook</a>'\n",
              "            + ' to learn more about interactive tables.';\n",
              "          element.innerHTML = '';\n",
              "          dataTable['output_type'] = 'display_data';\n",
              "          await google.colab.output.renderOutput(dataTable, element);\n",
              "          const docLink = document.createElement('div');\n",
              "          docLink.innerHTML = docLinkHtml;\n",
              "          element.appendChild(docLink);\n",
              "        }\n",
              "      </script>\n",
              "    </div>\n",
              "  </div>\n",
              "  "
            ]
          },
          "metadata": {},
          "execution_count": 18
        }
      ]
    },
    {
      "cell_type": "markdown",
      "source": [
        "¿Cuántos Municipios tienen más de 100000\n",
        "habitantes?."
      ],
      "metadata": {
        "id": "2NVSMOT-PNPd"
      }
    },
    {
      "cell_type": "code",
      "source": [
        "datos_municipios = {\"Municipio1\": 90000, \"Municipio2\": 120000, \"Municipio3\": 80000, \"Municipio4\": 150000}\n",
        "\n",
        "num_municipios = 0\n",
        "for municipio, poblacion in datos_municipios.items():\n",
        "    if poblacion > 100000:\n",
        "        num_municipios += 1\n",
        "\n",
        "print(\"Hay {} municipios con más de 100000 habitantes.\".format(num_municipios))\n"
      ],
      "metadata": {
        "colab": {
          "base_uri": "https://localhost:8080/"
        },
        "id": "_12A1rIhPgdc",
        "outputId": "84e265e4-d308-45b4-8dd5-df494e96fce5"
      },
      "execution_count": 19,
      "outputs": [
        {
          "output_type": "stream",
          "name": "stdout",
          "text": [
            "Hay 2 municipios con más de 100000 habitantes.\n"
          ]
        }
      ]
    },
    {
      "cell_type": "markdown",
      "source": [
        "Realice una gráfica de barras sobre la polbación de cada\n",
        "ciudad, ordenela de menor a mayo y responda:\n",
        "a. ¿Cuál es la segunda ciudad más poblada?\n",
        "b. ¿Qué posición ocupa Granada en el ranking de\n",
        "las ciudades más pobladas?"
      ],
      "metadata": {
        "id": "qu_scSLfP8EQ"
      }
    },
    {
      "cell_type": "code",
      "source": [
        "import matplotlib.pyplot as plt\n",
        "\n",
        "# Datos de población de ciudades\n",
        "poblacion_ciudades = {\"Granada\": 232462, \"Sevilla\": 688711, \"Málaga\": 571026, \"Córdoba\": 330033, \"Almería\": 198533}\n",
        "\n",
        "# Ordenar de menor a mayor\n",
        "poblacion_ciudades_ordenada = sorted(poblacion_ciudades.items(), key=lambda x: x[1])\n",
        "\n",
        "# Crear gráfica de barras\n",
        "nombres_ciudades = [ciudad[0] for ciudad in poblacion_ciudades_ordenada]\n",
        "poblaciones = [ciudad[1] for ciudad in poblacion_ciudades_ordenada]\n",
        "plt.bar(nombres_ciudades, poblaciones)\n",
        "\n",
        "# Configurar ejes y título\n",
        "plt.xlabel(\"Ciudades\")\n",
        "plt.ylabel(\"Población\")\n",
        "plt.title(\"Población de ciudades\")\n",
        "\n",
        "# Mostrar gráfica\n",
        "plt.show()\n",
        "\n",
        "# Responder preguntas\n",
        "segunda_ciudad = poblacion_ciudades_ordenada[-2][0]\n",
        "granada_posicion = nombres_ciudades.index(\"Granada\") + 1\n",
        "\n",
        "print(\"a. La segunda ciudad más poblada es {}.\".format(segunda_ciudad))\n",
        "print(\"b. Granada ocupa la posición {} en el ranking de las ciudades más pobladas.\".format(granada_posicion))\n"
      ],
      "metadata": {
        "colab": {
          "base_uri": "https://localhost:8080/",
          "height": 331
        },
        "id": "sLxQY-fJP8rG",
        "outputId": "25e6f066-033c-450c-c7b7-6b1f8283d14f"
      },
      "execution_count": 20,
      "outputs": [
        {
          "output_type": "display_data",
          "data": {
            "text/plain": [
              "<Figure size 432x288 with 1 Axes>"
            ],
            "image/png": "[encoded data removed]"
          },
          "metadata": {
            "needs_background": "light"
          }
        },
        {
          "output_type": "stream",
          "name": "stdout",
          "text": [
            "a. La segunda ciudad más poblada es Málaga.\n",
            "b. Granada ocupa la posición 2 en el ranking de las ciudades más pobladas.\n"
          ]
        }
      ]
    },
    {
      "cell_type": "markdown",
      "source": [
        "el mismo codigo, pero la grafica resalta a Granada en color verde :)"
      ],
      "metadata": {
        "id": "LxPRus_6QiSm"
      }
    },
    {
      "cell_type": "code",
      "source": [
        "import matplotlib.pyplot as plt\n",
        "\n",
        "# Datos de población de ciudades\n",
        "poblacion_ciudades = {\"Granada\": 232462, \"Sevilla\": 688711, \"Málaga\": 571026, \"Córdoba\": 330033, \"Almería\": 198533}\n",
        "\n",
        "# Ordenar de menor a mayor\n",
        "poblacion_ciudades_ordenada = sorted(poblacion_ciudades.items(), key=lambda x: x[1])\n",
        "\n",
        "# Crear lista de colores y asignar color verde a Granada\n",
        "nombres_ciudades = [ciudad[0] for ciudad in poblacion_ciudades_ordenada]\n",
        "colores = ['blue' if ciudad != 'Granada' else 'green' for ciudad in nombres_ciudades]\n",
        "\n",
        "# Crear gráfica de barras con colores personalizados\n",
        "poblaciones = [ciudad[1] for ciudad in poblacion_ciudades_ordenada]\n",
        "plt.bar(nombres_ciudades, poblaciones, color=colores)\n",
        "\n",
        "# Configurar ejes y título\n",
        "plt.xlabel(\"Ciudades\")\n",
        "plt.ylabel(\"Población\")\n",
        "plt.title(\"Población de ciudades\")\n",
        "\n",
        "# Mostrar gráfica\n",
        "plt.show()\n",
        "\n",
        "# Responder preguntas\n",
        "segunda_ciudad = poblacion_ciudades_ordenada[-2][0]\n",
        "granada_posicion = nombres_ciudades.index(\"Granada\") + 1\n",
        "\n",
        "print(\"a. La segunda ciudad más poblada es {}.\".format(segunda_ciudad))\n",
        "print(\"b. Granada ocupa la posición {} en el ranking de las ciudades más pobladas.\".format(granada_posicion))\n"
      ],
      "metadata": {
        "colab": {
          "base_uri": "https://localhost:8080/",
          "height": 331
        },
        "id": "P7KF_l0NQ3uN",
        "outputId": "b9fb1952-ff85-4d74-8110-483b81ba46eb"
      },
      "execution_count": 24,
      "outputs": [
        {
          "output_type": "display_data",
          "data": {
            "text/plain": [
              "<Figure size 432x288 with 1 Axes>"
            ],
            "image/png": "[encoded data removed]"
          },
          "metadata": {
            "needs_background": "light"
          }
        },
        {
          "output_type": "stream",
          "name": "stdout",
          "text": [
            "a. La segunda ciudad más poblada es Málaga.\n",
            "b. Granada ocupa la posición 2 en el ranking de las ciudades más pobladas.\n"
          ]
        }
      ]
    },
    {
      "cell_type": "markdown",
      "source": [
        "¿Cuántos municipios de Extremadura tienen más de 5000\n",
        "habitantes?."
      ],
      "metadata": {
        "id": "cs6mP5PFRMUy"
      }
    },
    {
      "cell_type": "code",
      "source": [
        "import sqlite3\n",
        "conexion = sqlite3.connect('/content/drive/MyDrive/LAB 3 /NucleosPoblacion.csv')\n",
        "cursor = conexion.cursor()\n",
        "\n",
        "consulta = \"SELECT COUNT(*) FROM poblacion WHERE poblacion > 5000\"\n",
        "cursor.execute(consulta)\n",
        "resultado = cursor.fetchone()"
      ],
      "metadata": {
        "id": "OFy3lmglRoLv"
      },
      "execution_count": null,
      "outputs": []
    },
    {
      "cell_type": "markdown",
      "source": [
        "¿Cuál es el municipio situado más al Norte? (Usar el\n",
        "valor de la coordenada \"Y\" que representa la latitud en\n",
        "grados). Proporcione también la provincia a la que\n",
        "pertenece y su población."
      ],
      "metadata": {
        "id": "XwkswG-Ggbkq"
      }
    },
    {
      "cell_type": "code",
      "source": [
        "import pandas as pd\n",
        "import numpy as np\n"
      ],
      "metadata": {
        "id": "DBvx2oNfiGlx"
      },
      "execution_count": 52,
      "outputs": []
    },
    {
      "cell_type": "code",
      "source": [
        "# Cargar el archivo CSV en un DataFrame\n",
        "df = pd.read_csv('/content/drive/MyDrive/LAB 3 /NucleosPoblacion.csv')\n"
      ],
      "metadata": {
        "id": "fSFJjQXLnbqR"
      },
      "execution_count": 53,
      "outputs": []
    },
    {
      "cell_type": "code",
      "source": [
        "# Convertir la columna 'latitud' a valores numéricos\n",
        "df['latitud'] = pd.to_numeric(df['latitud'], errors='coerce')\n"
      ],
      "metadata": {
        "id": "ZXewwq1EneCK"
      },
      "execution_count": null,
      "outputs": []
    },
    {
      "cell_type": "code",
      "source": [
        "# Eliminar filas con valores nulos en la columna 'latitud'\n",
        "df.dropna(subset=['latitud'], inplace=True)\n",
        "\n",
        "# Obtener el índice del valor máximo en la columna 'latitud'\n",
        "idx_max_latitud = np.argmax(df['latitud'])\n",
        "\n",
        "# Obtener el municipio, provincia y población del municipio con la latitud máxima\n",
        "municipio = df.loc[idx_max_latitud, 'municipio']\n",
        "provincia = df.loc[idx_max_latitud, 'provincia']\n",
        "poblacion = df.loc[idx_max_latitud, 'poblacion']\n",
        "\n",
        "# Imprimir el resultado\n",
        "print(f\"El municipio más al Norte es {municipio}, en la provincia de {provincia}, con una población de {poblacion} habitantes.\")"
      ],
      "metadata": {
        "id": "ZN2sMPw9nh6i"
      },
      "execution_count": null,
      "outputs": []
    },
    {
      "cell_type": "markdown",
      "source": [
        "Obtenga la media, mediana, desviación estándar, valor\n",
        "máximo y valor mínimo de la población de los municipios\n",
        "de la provincia de Granada."
      ],
      "metadata": {
        "id": "zXfJ4yx2Tr3x"
      }
    },
    {
      "cell_type": "code",
      "source": [
        "import pandas as pd\n",
        "\n",
        "# Cargar el archivo con los datos de los municipios\n",
        "df = pd.read_csv('/content/drive/MyDrive/LAB 3 /NucleosPoblacion.csv')\n",
        "\n",
        "# Filtrar los municipios de la provincia de Granada\n",
        "df_granada = df.query('Provincia == \"Granada\"')\n",
        "\n",
        "poblacion = 239154.0"
      ],
      "metadata": {
        "id": "gtlzzTa1Vecm"
      },
      "execution_count": 77,
      "outputs": []
    },
    {
      "cell_type": "code",
      "source": [
        "# Calcular la media de la población\n",
        "media = df_granada['poblacion'].mean()\n",
        "\n",
        "# Calcular la mediana de la población\n",
        "mediana = df_granada['poblacion'].median()\n",
        "\n",
        "# Calcular la desviación estándar de la población\n",
        "desviacion = df_granada['poblacion'].std()\n",
        "\n",
        "# Encontrar el valor máximo de la población\n",
        "maximo = df_granada['poblacion'].max()\n",
        "\n",
        "# Encontrar el valor mínimo de la población\n",
        "minimo = df_granada['poblacion'].min()\n",
        "\n",
        "print(\"Media:\", media)\n",
        "print(\"Mediana:\", mediana)\n",
        "print(\"Desviación estándar:\", desviacion)\n",
        "print(\"Valor máximo:\", maximo)\n",
        "print(\"Valor mínimo:\", minimo)\n",
        "\n"
      ],
      "metadata": {
        "id": "0e3zo7S8YlZe"
      },
      "execution_count": null,
      "outputs": []
    },
    {
      "cell_type": "markdown",
      "source": [],
      "metadata": {
        "id": "g8pEPLJ1bQSY"
      }
    },
    {
      "cell_type": "code",
      "source": [
        "import pandas as pd\n",
        "import matplotlib.pyplot as plt\n",
        "\n",
        "# Cargar el archivo con los datos de los municipios\n",
        "df = pd.read_csv('/content/drive/MyDrive/LAB 3 /NucleosPoblacion.csv')\n",
        "\n",
        "# Filtrar los municipios de la provincia de Granada\n",
        "df_granada = df.query('Provincia == \"Granada\"')\n",
        "\n",
        "# Graficar histograma de población para la provincia de Granada\n",
        "plt.hist(df_granada['poblacion'])\n",
        "plt.title('Distribución de población en la provincia de Granada')\n",
        "plt.xlabel('Población')\n",
        "plt.ylabel('Frecuencia')\n",
        "plt.show()\n"
      ],
      "metadata": {
        "id": "2yxk9OlNbQyS"
      },
      "execution_count": null,
      "outputs": []
    },
    {
      "cell_type": "markdown",
      "source": [],
      "metadata": {
        "id": "bIO3VG2hcWVI"
      }
    },
    {
      "cell_type": "code",
      "source": [
        "media_poblacion = df_aleatorio['poblacion'].mean()\n",
        "desv_poblacion = df_aleatorio['poblacion'].std()\n",
        "\n",
        "print(\"Media de la población de 50 municipios aleatorios:\", media_poblacion)\n",
        "print(\"Desviación estándar de la población de 50 municipios aleatorios:\", desv_poblacion)\n"
      ],
      "metadata": {
        "id": "-Rcx4DDKcWyb"
      },
      "execution_count": null,
      "outputs": []
    },
    {
      "cell_type": "code",
      "source": [
        "import random\n",
        "\n",
        "random.seed(123)  \n",
        "municipios_aleatorios = random.sample(list(df.index), k=50)\n",
        "df_aleatorio = df.loc[municipios_aleatorios]\n"
      ],
      "metadata": {
        "id": "ECiN-ZeCdBi4"
      },
      "execution_count": 90,
      "outputs": []
    },
    {
      "cell_type": "code",
      "source": [
        "import pandas as pd\n",
        "from geopy.distance import geodesic\n",
        "from geopy.geocoders import Nominatim\n",
        "\n",
        "df = pd.read_csv('/content/drive/MyDrive/LAB 3 /NucleosPoblacion.csv')\n",
        "\n"
      ],
      "metadata": {
        "id": "gV_hga6zdIRw"
      },
      "execution_count": 94,
      "outputs": []
    },
    {
      "cell_type": "code",
      "source": [
        "# Obtener las coordenadas de Madrid\n",
        "geolocator = Nominatim(user_agent=\"my_app\")\n",
        "madrid = geolocator.geocode(\"Madrid, Spain\")\n",
        "lat_madrid, lon_madrid = madrid.latitude, madrid.longitude\n",
        "\n"
      ],
      "metadata": {
        "id": "rc7-Bajid_uN"
      },
      "execution_count": 95,
      "outputs": []
    },
    {
      "cell_type": "code",
      "source": [
        "# Calcular la distancia de cada municipio a Madrid\n",
        "distancias = []\n",
        "for index, row in df_municipios.iterrows():\n",
        "    lat = row['latitud']\n",
        "    lon = row['longitud']\n",
        "    dist = geodesic((lat, lon), (lat_madrid, lon_madrid)).km\n",
        "    distancias.append(dist)\n"
      ],
      "metadata": {
        "id": "bcCMG-QbeCx3"
      },
      "execution_count": null,
      "outputs": []
    },
    {
      "cell_type": "code",
      "source": [
        "# Añadir la columna de distancias al DataFrame\n",
        "df_municipios['distancia'] = distancias\n",
        "\n",
        "# Obtener el municipio más cercano y el más lejano\n",
        "municipio_mas_cercano = df_municipios.loc[df_municipios['distancia'].idxmin(), 'municipio']\n",
        "municipio_mas_lejano = df_municipios.loc[df_municipios['distancia'].idxmax(), 'municipio']\n",
        "\n",
        "# Imprimir los resultados\n",
        "print(\"El municipio más cercano a Madrid es:\", municipio_mas_cercano)\n",
        "print(\"El municipio más lejano a Madrid es:\", municipio_mas_lejano)"
      ],
      "metadata": {
        "colab": {
          "base_uri": "https://localhost:8080/",
          "height": 183
        },
        "id": "tH_wCfq0eH38",
        "outputId": "41652bf5-497b-4006-ae24-4859033979f7"
      },
      "execution_count": 98,
      "outputs": [
        {
          "output_type": "error",
          "ename": "NameError",
          "evalue": "ignored",
          "traceback": [
            "\u001b[0;31m---------------------------------------------------------------------------\u001b[0m",
            "\u001b[0;31mNameError\u001b[0m                                 Traceback (most recent call last)",
            "\u001b[0;32m<ipython-input-98-c1aa98795641>\u001b[0m in \u001b[0;36m<module>\u001b[0;34m\u001b[0m\n\u001b[1;32m      1\u001b[0m \u001b[0;31m# Añadir la columna de distancias al DataFrame\u001b[0m\u001b[0;34m\u001b[0m\u001b[0;34m\u001b[0m\u001b[0m\n\u001b[0;32m----> 2\u001b[0;31m \u001b[0mdf_municipios\u001b[0m\u001b[0;34m[\u001b[0m\u001b[0;34m'distancia'\u001b[0m\u001b[0;34m]\u001b[0m \u001b[0;34m=\u001b[0m \u001b[0mdistancias\u001b[0m\u001b[0;34m\u001b[0m\u001b[0;34m\u001b[0m\u001b[0m\n\u001b[0m",
            "\u001b[0;31mNameError\u001b[0m: name 'df_municipios' is not defined"
          ]
        }
      ]
    }
  ]
}