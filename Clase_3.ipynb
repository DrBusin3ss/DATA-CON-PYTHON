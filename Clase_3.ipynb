{
  "nbformat": 4,
  "nbformat_minor": 0,
  "metadata": {
    "colab": {
      "provenance": [],
      "authorship_tag": "ABX9TyN7mfCbqYYkN5EMNSDWO1kx",
      "include_colab_link": true
    },
    "kernelspec": {
      "name": "python3",
      "display_name": "Python 3"
    },
    "language_info": {
      "name": "python"
    }
  },
  "cells": [
    {
      "cell_type": "markdown",
      "metadata": {
        "id": "view-in-github",
        "colab_type": "text"
      },
      "source": [
        "<a href=\"https://colab.research.google.com/github/DrBusin3ss/DATA-CON-PYTHON/blob/main/Clase_3.ipynb\" target=\"_parent\"><img src=\"https://colab.research.google.com/assets/colab-badge.svg\" alt=\"Open In Colab\"/></a>"
      ]
    },
    {
      "cell_type": "code",
      "execution_count": 1,
      "metadata": {
        "colab": {
          "base_uri": "https://localhost:8080/"
        },
        "id": "Kpel3yc2umqc",
        "outputId": "15410a80-a740-4b68-9362-b750868d9a2e"
      },
      "outputs": [
        {
          "output_type": "stream",
          "name": "stdout",
          "text": [
            "ingrese un numero: 7\n",
            "el numero NO es cero!!\n"
          ]
        }
      ],
      "source": [
        "numero = input(\"ingrese un numero: \")\n",
        "\n",
        "if(numero ==0):\n",
        "    print(\"El numero es cer\")\n",
        "else:\n",
        "    print(\"el numero NO es cero!!\")"
      ]
    },
    {
      "cell_type": "code",
      "source": [
        "# elif else mas if \"sino\" si hace esto no hace esto\n",
        "\n",
        "dia = int(input(\"ingese un dia: \"))\n",
        "\n",
        "if((dia >=1) and (dia <= 7)):\n",
        "\n",
        "  if(dia == 1):\n",
        "    print(\"El día es lunes - 1\")\n",
        "  elif(dia == 2):\n",
        "    print(\"El día es martes - 2\")\n",
        "  elif(dia == 3):\n",
        "    print(\"El día es miercoles - 3\")\n",
        "  elif(dia == 4):\n",
        "    print(\"El día es jueves - 4\")\n",
        "  elif(dia == 5):\n",
        "    print(\"El día es viernes - 5\")\n",
        "  else:\n",
        "    print(\"El dia es fin de semana\")\n",
        "else:\n",
        "  print(\"el valor del dia no es valido\")\n"
      ],
      "metadata": {
        "colab": {
          "base_uri": "https://localhost:8080/"
        },
        "id": "5bE701u9uqpd",
        "outputId": "5c6f7322-4b13-4203-abde-0c3a5da185b7"
      },
      "execution_count": 12,
      "outputs": [
        {
          "output_type": "stream",
          "name": "stdout",
          "text": [
            "ingese un dia: 3\n",
            "El día es miercoles - 3\n"
          ]
        }
      ]
    },
    {
      "cell_type": "code",
      "source": [
        "#for es un ciclo \"enciclar o que se repita una serie de instrucciones hasta que se cumpla una intruccion especifica\" \n",
        "#for = para\n",
        "#cuando yo se cuantas veces se va a ejecutar un codigo\n",
        "\n",
        "numero = [0,1,2,3,4,5,6,]\n",
        "\n",
        "for i in numero:\n",
        "    print(i)\n",
        "\n",
        "#str =str + i +',' # para imprimir una variable en lista horizontal seria crear un string\n",
        "\n",
        "\n",
        "\n"
      ],
      "metadata": {
        "colab": {
          "base_uri": "https://localhost:8080/"
        },
        "id": "8EfxshzC0EH4",
        "outputId": "e70cd024-873d-4227-bba7-0394ba29dcbd"
      },
      "execution_count": 14,
      "outputs": [
        {
          "output_type": "stream",
          "name": "stdout",
          "text": [
            "0\n",
            "1\n",
            "2\n",
            "3\n",
            "4\n",
            "5\n",
            "6\n"
          ]
        }
      ]
    },
    {
      "cell_type": "code",
      "source": [
        "#String\n",
        "\n",
        "miStr= David\n",
        "miStr = [0:5]\n",
        "\n",
        "\n",
        "\n",
        "\n",
        "\n"
      ],
      "metadata": {
        "id": "cZhg7fMK01Hu"
      },
      "execution_count": null,
      "outputs": []
    },
    {
      "cell_type": "code",
      "source": [
        "#for debe tener 3 interaciones\n",
        "\n",
        "for i in range(10,26,2)"
      ],
      "metadata": {
        "id": "At8Ud64k4zyT"
      },
      "execution_count": null,
      "outputs": []
    },
    {
      "cell_type": "code",
      "source": [
        "list(range(1,26,2))"
      ],
      "metadata": {
        "colab": {
          "base_uri": "https://localhost:8080/"
        },
        "id": "XBTQYfWd49Do",
        "outputId": "2bee59c1-d2b5-42fb-90b5-85d32db487b8"
      },
      "execution_count": 18,
      "outputs": [
        {
          "output_type": "execute_result",
          "data": {
            "text/plain": [
              "[1, 3, 5, 7, 9, 11, 13, 15, 17, 19, 21, 23, 25]"
            ]
          },
          "metadata": {},
          "execution_count": 18
        }
      ]
    },
    {
      "cell_type": "code",
      "source": [
        "A = ['a', 'c', 'd']\n"
      ],
      "metadata": {
        "id": "qs-8QyFd5DO0"
      },
      "execution_count": null,
      "outputs": []
    },
    {
      "cell_type": "code",
      "source": [
        "#while es mientras....mientras esto sucede, hacer esto\n",
        "\n",
        "numero = 4\n",
        "numUsuario = 0\n",
        "\n",
        "while(numero !=numUsuario):\n",
        "  numUsuario = int(input(\"ingrese un numero: \"))\n",
        "  print(\"El numero ingresado es incorrecto, intente de nuevo\")\n",
        "\n",
        "print(\"adivino el numero, programa terminado\")"
      ],
      "metadata": {
        "colab": {
          "base_uri": "https://localhost:8080/"
        },
        "id": "GYyPsbyZ7FxC",
        "outputId": "be1f9033-0c76-47a6-953e-2db3c615b8fe"
      },
      "execution_count": 30,
      "outputs": [
        {
          "output_type": "stream",
          "name": "stdout",
          "text": [
            "ingrese un numero: 0\n",
            "El numero ingresado es incorrecto, intente de nuevo\n",
            "ingrese un numero: 4\n",
            "El numero ingresado es incorrecto, intente de nuevo\n",
            "adivino el numero, programa terminado\n"
          ]
        }
      ]
    },
    {
      "cell_type": "code",
      "source": [
        "#Exceptions\n",
        "\n",
        "t"
      ],
      "metadata": {
        "id": "gs6UHD1fDm4c"
      },
      "execution_count": null,
      "outputs": []
    }
  ]
}